{
  "cells": [
    {
      "cell_type": "markdown",
      "id": "a66728d2",
      "metadata": {},
      "source": [
        "# Prediction in Time-series Dataset By : \n",
        "# Shikhar Garg\n",
        "# 101917064"
      ]
    },
    {
      "cell_type": "code",
      "execution_count": 38,
      "id": "b8f9c00e",
      "metadata": {},
      "outputs": [],
      "source": [
        "#importing libraries\n",
        "import pandas as pd\n",
        "import numpy as np\n",
        "from tensorflow.keras.models import Sequential\n",
        "from tensorflow.keras.layers import LSTM\n",
        "from tensorflow.keras.layers import Dense, Dropout\n",
        "import pandas as pd\n",
        "from matplotlib import pyplot as plt\n",
        "from sklearn.preprocessing import StandardScaler\n",
        "import seaborn as sns\n",
        "from sklearn.ensemble import ExtraTreesRegressor\n",
        "from sklearn.model_selection import cross_val_score\n",
        "from sklearn.metrics import mean_squared_error\n",
        "import math\n",
        "from sklearn.ensemble import RandomForestRegressor"
      ]
    },
    {
      "cell_type": "code",
      "execution_count": 39,
      "id": "bedfa33c",
      "metadata": {
        "colab": {
          "base_uri": "https://localhost:8080/"
        },
        "id": "bedfa33c",
        "outputId": "5f05df2c-d474-485c-a159-d66c99a11648"
      },
      "outputs": [],
      "source": [
        "#importing dataset\n",
        "df = pd.read_excel('DATASET.xlsx')"
      ]
    },
    {
      "cell_type": "code",
      "execution_count": 40,
      "id": "8abf4773",
      "metadata": {
        "colab": {
          "base_uri": "https://localhost:8080/",
          "height": 424
        },
        "id": "8abf4773",
        "outputId": "810c9b95-bef7-4cda-b189-84c218e45cfc"
      },
      "outputs": [
        {
          "data": {
            "text/html": [
              "<div>\n",
              "<style scoped>\n",
              "    .dataframe tbody tr th:only-of-type {\n",
              "        vertical-align: middle;\n",
              "    }\n",
              "\n",
              "    .dataframe tbody tr th {\n",
              "        vertical-align: top;\n",
              "    }\n",
              "\n",
              "    .dataframe thead th {\n",
              "        text-align: right;\n",
              "    }\n",
              "</style>\n",
              "<table border=\"1\" class=\"dataframe\">\n",
              "  <thead>\n",
              "    <tr style=\"text-align: right;\">\n",
              "      <th></th>\n",
              "      <th>Unnamed: 0</th>\n",
              "      <th>year</th>\n",
              "      <th>Para-1</th>\n",
              "      <th>Para-2</th>\n",
              "      <th>Para-3</th>\n",
              "      <th>Para-4</th>\n",
              "      <th>Para-5</th>\n",
              "      <th>Para-6</th>\n",
              "      <th>Para-7</th>\n",
              "      <th>Para-8</th>\n",
              "      <th>Para-9</th>\n",
              "      <th>Para-10</th>\n",
              "      <th>Para-11</th>\n",
              "      <th>Para-12</th>\n",
              "      <th>Para-13</th>\n",
              "    </tr>\n",
              "  </thead>\n",
              "  <tbody>\n",
              "    <tr>\n",
              "      <th>0</th>\n",
              "      <td>Sec_1</td>\n",
              "      <td>1</td>\n",
              "      <td>324.0</td>\n",
              "      <td>354.5</td>\n",
              "      <td>17.0</td>\n",
              "      <td>0.0</td>\n",
              "      <td>3</td>\n",
              "      <td>117</td>\n",
              "      <td>2600</td>\n",
              "      <td>400</td>\n",
              "      <td>0.0</td>\n",
              "      <td>0.0</td>\n",
              "      <td>0.0</td>\n",
              "      <td>0</td>\n",
              "      <td>1.520</td>\n",
              "    </tr>\n",
              "    <tr>\n",
              "      <th>1</th>\n",
              "      <td>NaN</td>\n",
              "      <td>2</td>\n",
              "      <td>324.0</td>\n",
              "      <td>161.1</td>\n",
              "      <td>18.2</td>\n",
              "      <td>0.0</td>\n",
              "      <td>4</td>\n",
              "      <td>106</td>\n",
              "      <td>5950</td>\n",
              "      <td>1190</td>\n",
              "      <td>0.0</td>\n",
              "      <td>3.4</td>\n",
              "      <td>0.0</td>\n",
              "      <td>0</td>\n",
              "      <td>1.620</td>\n",
              "    </tr>\n",
              "    <tr>\n",
              "      <th>2</th>\n",
              "      <td>NaN</td>\n",
              "      <td>3</td>\n",
              "      <td>324.0</td>\n",
              "      <td>170.7</td>\n",
              "      <td>18.5</td>\n",
              "      <td>0.0</td>\n",
              "      <td>4</td>\n",
              "      <td>110</td>\n",
              "      <td>5950</td>\n",
              "      <td>1190</td>\n",
              "      <td>0.0</td>\n",
              "      <td>21.3</td>\n",
              "      <td>0.0</td>\n",
              "      <td>4</td>\n",
              "      <td>1.680</td>\n",
              "    </tr>\n",
              "    <tr>\n",
              "      <th>3</th>\n",
              "      <td>NaN</td>\n",
              "      <td>4</td>\n",
              "      <td>324.0</td>\n",
              "      <td>223.9</td>\n",
              "      <td>18.9</td>\n",
              "      <td>0.0</td>\n",
              "      <td>3</td>\n",
              "      <td>110</td>\n",
              "      <td>6150</td>\n",
              "      <td>1340</td>\n",
              "      <td>0.0</td>\n",
              "      <td>21.3</td>\n",
              "      <td>0.0</td>\n",
              "      <td>5</td>\n",
              "      <td>1.780</td>\n",
              "    </tr>\n",
              "    <tr>\n",
              "      <th>4</th>\n",
              "      <td>NaN</td>\n",
              "      <td>5</td>\n",
              "      <td>324.0</td>\n",
              "      <td>228.2</td>\n",
              "      <td>18.4</td>\n",
              "      <td>0.0</td>\n",
              "      <td>2</td>\n",
              "      <td>113</td>\n",
              "      <td>6340</td>\n",
              "      <td>1450</td>\n",
              "      <td>0.0</td>\n",
              "      <td>23.9</td>\n",
              "      <td>0.0</td>\n",
              "      <td>7</td>\n",
              "      <td>1.800</td>\n",
              "    </tr>\n",
              "    <tr>\n",
              "      <th>...</th>\n",
              "      <td>...</td>\n",
              "      <td>...</td>\n",
              "      <td>...</td>\n",
              "      <td>...</td>\n",
              "      <td>...</td>\n",
              "      <td>...</td>\n",
              "      <td>...</td>\n",
              "      <td>...</td>\n",
              "      <td>...</td>\n",
              "      <td>...</td>\n",
              "      <td>...</td>\n",
              "      <td>...</td>\n",
              "      <td>...</td>\n",
              "      <td>...</td>\n",
              "      <td>...</td>\n",
              "    </tr>\n",
              "    <tr>\n",
              "      <th>1005</th>\n",
              "      <td>NaN</td>\n",
              "      <td>6</td>\n",
              "      <td>454.0</td>\n",
              "      <td>931.8</td>\n",
              "      <td>13.6</td>\n",
              "      <td>125.0</td>\n",
              "      <td>13</td>\n",
              "      <td>116</td>\n",
              "      <td>4150</td>\n",
              "      <td>830</td>\n",
              "      <td>15.1</td>\n",
              "      <td>1.8</td>\n",
              "      <td>1.0</td>\n",
              "      <td>15</td>\n",
              "      <td>1.681</td>\n",
              "    </tr>\n",
              "    <tr>\n",
              "      <th>1006</th>\n",
              "      <td>NaN</td>\n",
              "      <td>7</td>\n",
              "      <td>454.0</td>\n",
              "      <td>703.0</td>\n",
              "      <td>14.5</td>\n",
              "      <td>17.0</td>\n",
              "      <td>13</td>\n",
              "      <td>118</td>\n",
              "      <td>4150</td>\n",
              "      <td>830</td>\n",
              "      <td>24.6</td>\n",
              "      <td>7.9</td>\n",
              "      <td>2.0</td>\n",
              "      <td>15</td>\n",
              "      <td>1.838</td>\n",
              "    </tr>\n",
              "    <tr>\n",
              "      <th>1007</th>\n",
              "      <td>NaN</td>\n",
              "      <td>8</td>\n",
              "      <td>454.0</td>\n",
              "      <td>1124.1</td>\n",
              "      <td>14.9</td>\n",
              "      <td>45.0</td>\n",
              "      <td>18</td>\n",
              "      <td>117</td>\n",
              "      <td>4200</td>\n",
              "      <td>840</td>\n",
              "      <td>119.0</td>\n",
              "      <td>15.7</td>\n",
              "      <td>2.0</td>\n",
              "      <td>16</td>\n",
              "      <td>1.862</td>\n",
              "    </tr>\n",
              "    <tr>\n",
              "      <th>1008</th>\n",
              "      <td>NaN</td>\n",
              "      <td>9</td>\n",
              "      <td>454.0</td>\n",
              "      <td>1462.3</td>\n",
              "      <td>13.2</td>\n",
              "      <td>62.0</td>\n",
              "      <td>27</td>\n",
              "      <td>117</td>\n",
              "      <td>4400</td>\n",
              "      <td>720</td>\n",
              "      <td>138.2</td>\n",
              "      <td>30.5</td>\n",
              "      <td>6.0</td>\n",
              "      <td>18</td>\n",
              "      <td>1.883</td>\n",
              "    </tr>\n",
              "    <tr>\n",
              "      <th>1009</th>\n",
              "      <td>NaN</td>\n",
              "      <td>10</td>\n",
              "      <td>454.0</td>\n",
              "      <td>986.3</td>\n",
              "      <td>14.3</td>\n",
              "      <td>67.0</td>\n",
              "      <td>24</td>\n",
              "      <td>122</td>\n",
              "      <td>4415</td>\n",
              "      <td>721</td>\n",
              "      <td>293.0</td>\n",
              "      <td>39.8</td>\n",
              "      <td>7.0</td>\n",
              "      <td>18</td>\n",
              "      <td>1.889</td>\n",
              "    </tr>\n",
              "  </tbody>\n",
              "</table>\n",
              "<p>1010 rows × 15 columns</p>\n",
              "</div>"
            ],
            "text/plain": [
              "     Unnamed: 0  year  Para-1  Para-2  Para-3  Para-4  Para-5  Para-6  Para-7  \\\n",
              "0         Sec_1     1   324.0   354.5    17.0     0.0       3     117    2600   \n",
              "1           NaN     2   324.0   161.1    18.2     0.0       4     106    5950   \n",
              "2           NaN     3   324.0   170.7    18.5     0.0       4     110    5950   \n",
              "3           NaN     4   324.0   223.9    18.9     0.0       3     110    6150   \n",
              "4           NaN     5   324.0   228.2    18.4     0.0       2     113    6340   \n",
              "...         ...   ...     ...     ...     ...     ...     ...     ...     ...   \n",
              "1005        NaN     6   454.0   931.8    13.6   125.0      13     116    4150   \n",
              "1006        NaN     7   454.0   703.0    14.5    17.0      13     118    4150   \n",
              "1007        NaN     8   454.0  1124.1    14.9    45.0      18     117    4200   \n",
              "1008        NaN     9   454.0  1462.3    13.2    62.0      27     117    4400   \n",
              "1009        NaN    10   454.0   986.3    14.3    67.0      24     122    4415   \n",
              "\n",
              "      Para-8  Para-9  Para-10  Para-11  Para-12  Para-13  \n",
              "0        400     0.0      0.0      0.0        0    1.520  \n",
              "1       1190     0.0      3.4      0.0        0    1.620  \n",
              "2       1190     0.0     21.3      0.0        4    1.680  \n",
              "3       1340     0.0     21.3      0.0        5    1.780  \n",
              "4       1450     0.0     23.9      0.0        7    1.800  \n",
              "...      ...     ...      ...      ...      ...      ...  \n",
              "1005     830    15.1      1.8      1.0       15    1.681  \n",
              "1006     830    24.6      7.9      2.0       15    1.838  \n",
              "1007     840   119.0     15.7      2.0       16    1.862  \n",
              "1008     720   138.2     30.5      6.0       18    1.883  \n",
              "1009     721   293.0     39.8      7.0       18    1.889  \n",
              "\n",
              "[1010 rows x 15 columns]"
            ]
          },
          "execution_count": 40,
          "metadata": {},
          "output_type": "execute_result"
        }
      ],
      "source": [
        "df"
      ]
    },
    {
      "cell_type": "code",
      "execution_count": 41,
      "id": "3a47efe8",
      "metadata": {
        "id": "3a47efe8"
      },
      "outputs": [],
      "source": [
        "#Proving each section with similar section name\n",
        "j = 0\n",
        "for i in range(100):\n",
        "    df.iloc[j:j + 10, 0] = df.iloc[j, 0]\n",
        "    j += 10"
      ]
    },
    {
      "cell_type": "code",
      "execution_count": 42,
      "id": "95388d90",
      "metadata": {
        "id": "95388d90"
      },
      "outputs": [],
      "source": [
        "#Replacing empty cells with zero\n",
        "df.fillna(0, inplace=True)\n",
        "#Renaming first column\n",
        "df.columns = df.columns.str.replace('Unnamed: 0', 'Group')"
      ]
    },
    {
      "cell_type": "code",
      "execution_count": 43,
      "id": "afb71568",
      "metadata": {
        "colab": {
          "base_uri": "https://localhost:8080/",
          "height": 424
        },
        "id": "afb71568",
        "outputId": "dfebabf6-036e-4a4e-91a2-1249090c045e"
      },
      "outputs": [
        {
          "data": {
            "text/html": [
              "<div>\n",
              "<style scoped>\n",
              "    .dataframe tbody tr th:only-of-type {\n",
              "        vertical-align: middle;\n",
              "    }\n",
              "\n",
              "    .dataframe tbody tr th {\n",
              "        vertical-align: top;\n",
              "    }\n",
              "\n",
              "    .dataframe thead th {\n",
              "        text-align: right;\n",
              "    }\n",
              "</style>\n",
              "<table border=\"1\" class=\"dataframe\">\n",
              "  <thead>\n",
              "    <tr style=\"text-align: right;\">\n",
              "      <th></th>\n",
              "      <th>Group</th>\n",
              "      <th>year</th>\n",
              "      <th>Para-1</th>\n",
              "      <th>Para-2</th>\n",
              "      <th>Para-3</th>\n",
              "      <th>Para-4</th>\n",
              "      <th>Para-5</th>\n",
              "      <th>Para-6</th>\n",
              "      <th>Para-7</th>\n",
              "      <th>Para-8</th>\n",
              "      <th>Para-9</th>\n",
              "      <th>Para-10</th>\n",
              "      <th>Para-11</th>\n",
              "      <th>Para-12</th>\n",
              "      <th>Para-13</th>\n",
              "    </tr>\n",
              "  </thead>\n",
              "  <tbody>\n",
              "    <tr>\n",
              "      <th>9</th>\n",
              "      <td>Sec_1</td>\n",
              "      <td>10</td>\n",
              "      <td>324.0</td>\n",
              "      <td>53.6</td>\n",
              "      <td>19.0</td>\n",
              "      <td>0.0</td>\n",
              "      <td>2</td>\n",
              "      <td>105</td>\n",
              "      <td>7567</td>\n",
              "      <td>1885</td>\n",
              "      <td>16.8</td>\n",
              "      <td>105.0</td>\n",
              "      <td>65.0</td>\n",
              "      <td>9</td>\n",
              "      <td>1.960</td>\n",
              "    </tr>\n",
              "    <tr>\n",
              "      <th>19</th>\n",
              "      <td>Sec_2</td>\n",
              "      <td>10</td>\n",
              "      <td>327.7</td>\n",
              "      <td>62.0</td>\n",
              "      <td>22.7</td>\n",
              "      <td>0.0</td>\n",
              "      <td>2</td>\n",
              "      <td>102</td>\n",
              "      <td>30525</td>\n",
              "      <td>10234</td>\n",
              "      <td>76.5</td>\n",
              "      <td>44.3</td>\n",
              "      <td>5.0</td>\n",
              "      <td>9</td>\n",
              "      <td>0.795</td>\n",
              "    </tr>\n",
              "    <tr>\n",
              "      <th>29</th>\n",
              "      <td>Sec_3</td>\n",
              "      <td>10</td>\n",
              "      <td>487.7</td>\n",
              "      <td>93.2</td>\n",
              "      <td>22.5</td>\n",
              "      <td>0.0</td>\n",
              "      <td>4</td>\n",
              "      <td>110</td>\n",
              "      <td>2140</td>\n",
              "      <td>1270</td>\n",
              "      <td>78.5</td>\n",
              "      <td>0.0</td>\n",
              "      <td>0.0</td>\n",
              "      <td>16</td>\n",
              "      <td>1.432</td>\n",
              "    </tr>\n",
              "    <tr>\n",
              "      <th>39</th>\n",
              "      <td>Sec_4</td>\n",
              "      <td>10</td>\n",
              "      <td>543.6</td>\n",
              "      <td>93.2</td>\n",
              "      <td>22.5</td>\n",
              "      <td>0.0</td>\n",
              "      <td>4</td>\n",
              "      <td>110</td>\n",
              "      <td>2140</td>\n",
              "      <td>1270</td>\n",
              "      <td>28.5</td>\n",
              "      <td>60.5</td>\n",
              "      <td>67.0</td>\n",
              "      <td>11</td>\n",
              "      <td>2.004</td>\n",
              "    </tr>\n",
              "    <tr>\n",
              "      <th>49</th>\n",
              "      <td>Sec_5</td>\n",
              "      <td>10</td>\n",
              "      <td>434.4</td>\n",
              "      <td>149.0</td>\n",
              "      <td>11.7</td>\n",
              "      <td>72.0</td>\n",
              "      <td>3</td>\n",
              "      <td>110</td>\n",
              "      <td>13142</td>\n",
              "      <td>6225</td>\n",
              "      <td>0.0</td>\n",
              "      <td>276.2</td>\n",
              "      <td>34.0</td>\n",
              "      <td>6</td>\n",
              "      <td>1.792</td>\n",
              "    </tr>\n",
              "    <tr>\n",
              "      <th>...</th>\n",
              "      <td>...</td>\n",
              "      <td>...</td>\n",
              "      <td>...</td>\n",
              "      <td>...</td>\n",
              "      <td>...</td>\n",
              "      <td>...</td>\n",
              "      <td>...</td>\n",
              "      <td>...</td>\n",
              "      <td>...</td>\n",
              "      <td>...</td>\n",
              "      <td>...</td>\n",
              "      <td>...</td>\n",
              "      <td>...</td>\n",
              "      <td>...</td>\n",
              "      <td>...</td>\n",
              "    </tr>\n",
              "    <tr>\n",
              "      <th>969</th>\n",
              "      <td>Sec_97</td>\n",
              "      <td>10</td>\n",
              "      <td>514.0</td>\n",
              "      <td>1226.4</td>\n",
              "      <td>10.1</td>\n",
              "      <td>203.6</td>\n",
              "      <td>16</td>\n",
              "      <td>114</td>\n",
              "      <td>7672</td>\n",
              "      <td>303</td>\n",
              "      <td>219.7</td>\n",
              "      <td>206.2</td>\n",
              "      <td>10.0</td>\n",
              "      <td>8</td>\n",
              "      <td>1.607</td>\n",
              "    </tr>\n",
              "    <tr>\n",
              "      <th>979</th>\n",
              "      <td>Sec_98</td>\n",
              "      <td>10</td>\n",
              "      <td>901.0</td>\n",
              "      <td>1531.0</td>\n",
              "      <td>11.1</td>\n",
              "      <td>34.9</td>\n",
              "      <td>40</td>\n",
              "      <td>100</td>\n",
              "      <td>15150</td>\n",
              "      <td>1077</td>\n",
              "      <td>5.9</td>\n",
              "      <td>74.5</td>\n",
              "      <td>33.0</td>\n",
              "      <td>13</td>\n",
              "      <td>1.087</td>\n",
              "    </tr>\n",
              "    <tr>\n",
              "      <th>989</th>\n",
              "      <td>Sec_99</td>\n",
              "      <td>10</td>\n",
              "      <td>1181.0</td>\n",
              "      <td>1364.9</td>\n",
              "      <td>9.2</td>\n",
              "      <td>274.3</td>\n",
              "      <td>24</td>\n",
              "      <td>112</td>\n",
              "      <td>12500</td>\n",
              "      <td>880</td>\n",
              "      <td>131.4</td>\n",
              "      <td>72.4</td>\n",
              "      <td>18.0</td>\n",
              "      <td>12</td>\n",
              "      <td>0.996</td>\n",
              "    </tr>\n",
              "    <tr>\n",
              "      <th>999</th>\n",
              "      <td>Sec_100</td>\n",
              "      <td>10</td>\n",
              "      <td>662.0</td>\n",
              "      <td>1110.7</td>\n",
              "      <td>12.8</td>\n",
              "      <td>33.2</td>\n",
              "      <td>27</td>\n",
              "      <td>117</td>\n",
              "      <td>3324</td>\n",
              "      <td>1356</td>\n",
              "      <td>193.7</td>\n",
              "      <td>305.6</td>\n",
              "      <td>180.0</td>\n",
              "      <td>12</td>\n",
              "      <td>2.212</td>\n",
              "    </tr>\n",
              "    <tr>\n",
              "      <th>1009</th>\n",
              "      <td>0</td>\n",
              "      <td>10</td>\n",
              "      <td>454.0</td>\n",
              "      <td>986.3</td>\n",
              "      <td>14.3</td>\n",
              "      <td>67.0</td>\n",
              "      <td>24</td>\n",
              "      <td>122</td>\n",
              "      <td>4415</td>\n",
              "      <td>721</td>\n",
              "      <td>293.0</td>\n",
              "      <td>39.8</td>\n",
              "      <td>7.0</td>\n",
              "      <td>18</td>\n",
              "      <td>1.889</td>\n",
              "    </tr>\n",
              "  </tbody>\n",
              "</table>\n",
              "<p>101 rows × 15 columns</p>\n",
              "</div>"
            ],
            "text/plain": [
              "        Group  year  Para-1  Para-2  Para-3  Para-4  Para-5  Para-6  Para-7  \\\n",
              "9       Sec_1    10   324.0    53.6    19.0     0.0       2     105    7567   \n",
              "19      Sec_2    10   327.7    62.0    22.7     0.0       2     102   30525   \n",
              "29      Sec_3    10   487.7    93.2    22.5     0.0       4     110    2140   \n",
              "39      Sec_4    10   543.6    93.2    22.5     0.0       4     110    2140   \n",
              "49      Sec_5    10   434.4   149.0    11.7    72.0       3     110   13142   \n",
              "...       ...   ...     ...     ...     ...     ...     ...     ...     ...   \n",
              "969    Sec_97    10   514.0  1226.4    10.1   203.6      16     114    7672   \n",
              "979    Sec_98    10   901.0  1531.0    11.1    34.9      40     100   15150   \n",
              "989    Sec_99    10  1181.0  1364.9     9.2   274.3      24     112   12500   \n",
              "999   Sec_100    10   662.0  1110.7    12.8    33.2      27     117    3324   \n",
              "1009        0    10   454.0   986.3    14.3    67.0      24     122    4415   \n",
              "\n",
              "      Para-8  Para-9  Para-10  Para-11  Para-12  Para-13  \n",
              "9       1885    16.8    105.0     65.0        9    1.960  \n",
              "19     10234    76.5     44.3      5.0        9    0.795  \n",
              "29      1270    78.5      0.0      0.0       16    1.432  \n",
              "39      1270    28.5     60.5     67.0       11    2.004  \n",
              "49      6225     0.0    276.2     34.0        6    1.792  \n",
              "...      ...     ...      ...      ...      ...      ...  \n",
              "969      303   219.7    206.2     10.0        8    1.607  \n",
              "979     1077     5.9     74.5     33.0       13    1.087  \n",
              "989      880   131.4     72.4     18.0       12    0.996  \n",
              "999     1356   193.7    305.6    180.0       12    2.212  \n",
              "1009     721   293.0     39.8      7.0       18    1.889  \n",
              "\n",
              "[101 rows x 15 columns]"
            ]
          },
          "execution_count": 43,
          "metadata": {},
          "output_type": "execute_result"
        }
      ],
      "source": [
        "#Test Dataset\n",
        "test_data = df.loc[df['year'] == 10]\n",
        "test_data"
      ]
    },
    {
      "cell_type": "code",
      "execution_count": 44,
      "id": "22a36c8e",
      "metadata": {
        "id": "22a36c8e"
      },
      "outputs": [],
      "source": [
        "test_data.columns = test_data.columns.str.replace('Unnamed: 0', 'Group')"
      ]
    },
    {
      "cell_type": "code",
      "execution_count": 45,
      "id": "5cd1c4f9",
      "metadata": {
        "id": "5cd1c4f9"
      },
      "outputs": [],
      "source": [
        "etr = ExtraTreesRegressor(n_estimators=100,bootstrap=False, criterion='mse', max_depth=None,\n",
        "                    max_features='auto', max_leaf_nodes=1200,\n",
        "                    min_impurity_decrease=0.0, \n",
        "                    min_samples_leaf=1,\n",
        "                    min_weight_fraction_leaf=0.0,\n",
        "                    n_jobs=None, oob_score=False, random_state=42, verbose=0,warm_start=False)"
      ]
    },
    {
      "cell_type": "code",
      "execution_count": 46,
      "id": "94e70538",
      "metadata": {
        "id": "94e70538"
      },
      "outputs": [],
      "source": [
        "predicted = ['Para-9', 'Para-10', 'Para-11', 'Para-12', 'Para-13']"
      ]
    },
    {
      "cell_type": "code",
      "execution_count": 47,
      "id": "69bf38a1",
      "metadata": {
        "id": "69bf38a1"
      },
      "outputs": [],
      "source": [
        "res = {'Para-9': [], 'Para-10': [], 'Para-11': [], 'Para-12': [], 'Para-13': []}"
      ]
    },
    {
      "cell_type": "code",
      "execution_count": 48,
      "id": "6b48c572",
      "metadata": {
        "id": "6b48c572"
      },
      "outputs": [],
      "source": [
        "rf = RandomForestRegressor(n_estimators = 100, min_samples_split=2, min_samples_leaf=1, max_features=1.0, random_state = 42)"
      ]
    },
    {
      "cell_type": "code",
      "execution_count": 49,
      "id": "d1039dda",
      "metadata": {
        "id": "d1039dda"
      },
      "outputs": [],
      "source": [
        "def selectedModel(val):\n",
        "    RMSE = []\n",
        "    N = 0\n",
        "    index = 0\n",
        "    if(val==0):\n",
        "        for j in range(10,15):\n",
        "            ans = 0\n",
        "            count = 0\n",
        "            for i in range(0, 1000, 10):\n",
        "                xtrain = df.iloc[i:i+9, 1:10]\n",
        "                ytrain = df.iloc[i:i+9, j]\n",
        "                xtest = df.iloc[i+9, 1:10].to_numpy()\n",
        "                ytest = df.iloc[i+9, j]\n",
        "                etr.fit(xtrain, ytrain)\n",
        "                ypred = etr.predict(xtest.reshape(1,-1))[0]\n",
        "                res[predicted[index]].append(ypred)\n",
        "                ans += (ytest - ypred)**2\n",
        "                count += 1\n",
        "                N += 1\n",
        "            RMSE.append(ans)\n",
        "            index += 1   \n",
        "    else:\n",
        "        for j in range(10,15):\n",
        "            ans = 0\n",
        "            count = 0\n",
        "            for i in range(0, 1000, 10):\n",
        "                xtrain = df.iloc[i:i+9, 1:10]\n",
        "                ytrain = df.iloc[i:i+9, j]\n",
        "                xtest = df.iloc[i+9, 1:10].to_numpy()\n",
        "                ytest = df.iloc[i+9, j]\n",
        "                rf.fit(xtrain, ytrain)\n",
        "                ypred = rf.predict(xtest.reshape(1,-1))[0]\n",
        "                res[predicted[index]].append(ypred)\n",
        "                ans += (ytest - ypred)**2\n",
        "                count += 1\n",
        "                N += 1\n",
        "            RMSE.append(ans)\n",
        "            index += 1\n",
        "    return (RMSE, count)"
      ]
    },
    {
      "cell_type": "code",
      "execution_count": 50,
      "id": "a846e8ad",
      "metadata": {
        "colab": {
          "base_uri": "https://localhost:8080/"
        },
        "id": "a846e8ad",
        "outputId": "d4da687c-2bd1-4c24-dc78-36a9057eb494",
        "scrolled": true
      },
      "outputs": [],
      "source": [
        "import warnings\n",
        "warnings.filterwarnings('ignore')\n",
        "\n",
        "res_RMSE, res_count = selectedModel(1)"
      ]
    },
    {
      "cell_type": "code",
      "execution_count": 51,
      "id": "5d77fa1a",
      "metadata": {
        "colab": {
          "base_uri": "https://localhost:8080/",
          "height": 424
        },
        "id": "5d77fa1a",
        "outputId": "ff724e9c-ae8d-409c-fe01-e08a13cf485c"
      },
      "outputs": [
        {
          "data": {
            "text/html": [
              "<div>\n",
              "<style scoped>\n",
              "    .dataframe tbody tr th:only-of-type {\n",
              "        vertical-align: middle;\n",
              "    }\n",
              "\n",
              "    .dataframe tbody tr th {\n",
              "        vertical-align: top;\n",
              "    }\n",
              "\n",
              "    .dataframe thead th {\n",
              "        text-align: right;\n",
              "    }\n",
              "</style>\n",
              "<table border=\"1\" class=\"dataframe\">\n",
              "  <thead>\n",
              "    <tr style=\"text-align: right;\">\n",
              "      <th></th>\n",
              "      <th>Para-9</th>\n",
              "      <th>Para-10</th>\n",
              "      <th>Para-11</th>\n",
              "      <th>Para-12</th>\n",
              "      <th>Para-13</th>\n",
              "    </tr>\n",
              "  </thead>\n",
              "  <tbody>\n",
              "    <tr>\n",
              "      <th>0</th>\n",
              "      <td>2.707</td>\n",
              "      <td>53.966</td>\n",
              "      <td>41.61</td>\n",
              "      <td>7.67</td>\n",
              "      <td>1.893400</td>\n",
              "    </tr>\n",
              "    <tr>\n",
              "      <th>1</th>\n",
              "      <td>56.621</td>\n",
              "      <td>27.907</td>\n",
              "      <td>0.90</td>\n",
              "      <td>7.73</td>\n",
              "      <td>0.788960</td>\n",
              "    </tr>\n",
              "    <tr>\n",
              "      <th>2</th>\n",
              "      <td>64.404</td>\n",
              "      <td>0.000</td>\n",
              "      <td>0.00</td>\n",
              "      <td>11.42</td>\n",
              "      <td>1.361070</td>\n",
              "    </tr>\n",
              "    <tr>\n",
              "      <th>3</th>\n",
              "      <td>16.026</td>\n",
              "      <td>53.980</td>\n",
              "      <td>59.04</td>\n",
              "      <td>6.96</td>\n",
              "      <td>1.812030</td>\n",
              "    </tr>\n",
              "    <tr>\n",
              "      <th>4</th>\n",
              "      <td>0.000</td>\n",
              "      <td>250.313</td>\n",
              "      <td>33.90</td>\n",
              "      <td>5.91</td>\n",
              "      <td>1.696570</td>\n",
              "    </tr>\n",
              "    <tr>\n",
              "      <th>...</th>\n",
              "      <td>...</td>\n",
              "      <td>...</td>\n",
              "      <td>...</td>\n",
              "      <td>...</td>\n",
              "      <td>...</td>\n",
              "    </tr>\n",
              "    <tr>\n",
              "      <th>95</th>\n",
              "      <td>0.000</td>\n",
              "      <td>112.641</td>\n",
              "      <td>15.04</td>\n",
              "      <td>3.73</td>\n",
              "      <td>1.356560</td>\n",
              "    </tr>\n",
              "    <tr>\n",
              "      <th>96</th>\n",
              "      <td>160.167</td>\n",
              "      <td>178.869</td>\n",
              "      <td>8.76</td>\n",
              "      <td>7.22</td>\n",
              "      <td>1.494210</td>\n",
              "    </tr>\n",
              "    <tr>\n",
              "      <th>97</th>\n",
              "      <td>4.116</td>\n",
              "      <td>60.155</td>\n",
              "      <td>22.37</td>\n",
              "      <td>11.76</td>\n",
              "      <td>1.065249</td>\n",
              "    </tr>\n",
              "    <tr>\n",
              "      <th>98</th>\n",
              "      <td>98.101</td>\n",
              "      <td>53.432</td>\n",
              "      <td>11.98</td>\n",
              "      <td>10.76</td>\n",
              "      <td>0.907400</td>\n",
              "    </tr>\n",
              "    <tr>\n",
              "      <th>99</th>\n",
              "      <td>109.764</td>\n",
              "      <td>235.990</td>\n",
              "      <td>134.61</td>\n",
              "      <td>10.28</td>\n",
              "      <td>2.048600</td>\n",
              "    </tr>\n",
              "  </tbody>\n",
              "</table>\n",
              "<p>100 rows × 5 columns</p>\n",
              "</div>"
            ],
            "text/plain": [
              "     Para-9  Para-10  Para-11  Para-12   Para-13\n",
              "0     2.707   53.966    41.61     7.67  1.893400\n",
              "1    56.621   27.907     0.90     7.73  0.788960\n",
              "2    64.404    0.000     0.00    11.42  1.361070\n",
              "3    16.026   53.980    59.04     6.96  1.812030\n",
              "4     0.000  250.313    33.90     5.91  1.696570\n",
              "..      ...      ...      ...      ...       ...\n",
              "95    0.000  112.641    15.04     3.73  1.356560\n",
              "96  160.167  178.869     8.76     7.22  1.494210\n",
              "97    4.116   60.155    22.37    11.76  1.065249\n",
              "98   98.101   53.432    11.98    10.76  0.907400\n",
              "99  109.764  235.990   134.61    10.28  2.048600\n",
              "\n",
              "[100 rows x 5 columns]"
            ]
          },
          "execution_count": 51,
          "metadata": {},
          "output_type": "execute_result"
        }
      ],
      "source": [
        "pred = pd.DataFrame.from_dict(res)\n",
        "pred"
      ]
    },
    {
      "cell_type": "code",
      "execution_count": 52,
      "id": "46674b57",
      "metadata": {
        "colab": {
          "base_uri": "https://localhost:8080/"
        },
        "id": "46674b57",
        "outputId": "8b6548c8-5f99-44d4-f338-61f42fed2986"
      },
      "outputs": [
        {
          "name": "stdout",
          "output_type": "stream",
          "text": [
            "65.4725011461942\n",
            "63.80949746448412\n",
            "26.014670433430446\n",
            "14.827907809262912\n",
            "0.22963478381048907\n"
          ]
        }
      ],
      "source": [
        "#RMSE for each column\n",
        "for i in res_RMSE:\n",
        "    print((i/res_count)**0.5)"
      ]
    },
    {
      "cell_type": "code",
      "execution_count": 53,
      "id": "bb2dfa5f",
      "metadata": {
        "colab": {
          "base_uri": "https://localhost:8080/"
        },
        "id": "bb2dfa5f",
        "outputId": "87933451-4ebd-45ad-869d-1e79f3440c7c"
      },
      "outputs": [
        {
          "name": "stdout",
          "output_type": "stream",
          "text": [
            "[428664.8406338402, 407165.1966670005, 67676.30777600002, 21986.685000000005, 5.273213393569006]\n"
          ]
        }
      ],
      "source": [
        "print(res_RMSE)"
      ]
    },
    {
      "cell_type": "code",
      "execution_count": 54,
      "id": "eb0ca17a",
      "metadata": {
        "colab": {
          "base_uri": "https://localhost:8080/"
        },
        "id": "eb0ca17a",
        "outputId": "7b70b250-5d9b-4ef3-d055-08dfd86ca6e7"
      },
      "outputs": [
        {
          "name": "stdout",
          "output_type": "stream",
          "text": [
            "43.02321009153627\n"
          ]
        }
      ],
      "source": [
        "#Total RMSE\n",
        "print((sum(res_RMSE)/500)**0.5)"
      ]
    },
    {
      "cell_type": "code",
      "execution_count": 55,
      "id": "6a2e1608",
      "metadata": {
        "id": "6a2e1608",
        "scrolled": true
      },
      "outputs": [],
      "source": [
        "import random\n",
        "ind = []\n",
        "for i in range(40):\n",
        "    ind.append(random.randint(0,100))"
      ]
    },
    {
      "cell_type": "code",
      "execution_count": 56,
      "id": "36757905",
      "metadata": {
        "colab": {
          "base_uri": "https://localhost:8080/",
          "height": 1000
        },
        "id": "36757905",
        "outputId": "13e9042b-06ee-449f-e27b-b3e73ac25993",
        "scrolled": false
      },
      "outputs": [
        {
          "data": {
            "image/png": "[encoded data removed]",
            "text/plain": [
              "<Figure size 432x432 with 1 Axes>"
            ]
          },
          "metadata": {
            "needs_background": "light"
          },
          "output_type": "display_data"
        },
        {
          "data": {
            "image/png": "[encoded data removed]",
            "text/plain": [
              "<Figure size 432x432 with 1 Axes>"
            ]
          },
          "metadata": {
            "needs_background": "light"
          },
          "output_type": "display_data"
        },
        {
          "data": {
            "image/png": "[encoded data removed]",
            "text/plain": [
              "<Figure size 432x432 with 1 Axes>"
            ]
          },
          "metadata": {
            "needs_background": "light"
          },
          "output_type": "display_data"
        },
        {
          "data": {
            "image/png": "[encoded data removed]",
            "text/plain": [
              "<Figure size 432x432 with 1 Axes>"
            ]
          },
          "metadata": {
            "needs_background": "light"
          },
          "output_type": "display_data"
        },
        {
          "data": {
            "image/png": "[encoded data removed]",
            "text/plain": [
              "<Figure size 432x432 with 1 Axes>"
            ]
          },
          "metadata": {
            "needs_background": "light"
          },
          "output_type": "display_data"
        }
      ],
      "source": [
        "#Scatter plot for random 40 rows out of 100 for each target column\n",
        "for i in range(5):\n",
        "    plt.figure(figsize=(6,6))\n",
        "    true_value = test_data.iloc[ind, i+10]\n",
        "    p_value = pred.iloc[ind, i]\n",
        "    plt.scatter(true_value, p_value, c='red')\n",
        "    \n",
        "    p1 = max(max(p_value), max(true_value))\n",
        "    p2 = min(min(p_value), min(true_value))\n",
        "    plt.plot([p1, p2], [p1, p2], 'b-')\n",
        "    plt.title(predicted[i])\n",
        "    plt.xlabel('True Values', fontsize=15)\n",
        "    plt.ylabel('Predictions', fontsize=15)\n",
        "    plt.axis('equal')\n",
        "    plt.show()"
      ]
    }
  ],
  "metadata": {
    "colab": {
      "collapsed_sections": [],
      "provenance": []
    },
    "kernelspec": {
      "display_name": "Python 3.9.7 64-bit",
      "language": "python",
      "name": "python3"
    },
    "language_info": {
      "codemirror_mode": {
        "name": "ipython",
        "version": 3
      },
      "file_extension": ".py",
      "mimetype": "text/x-python",
      "name": "python",
      "nbconvert_exporter": "python",
      "pygments_lexer": "ipython3",
      "version": "3.9.7"
    },
    "vscode": {
      "interpreter": {
        "hash": "11938c6bc6919ae2720b4d5011047913343b08a43b18698fd82dedb0d4417594"
      }
    }
  },
  "nbformat": 4,
  "nbformat_minor": 5
}
